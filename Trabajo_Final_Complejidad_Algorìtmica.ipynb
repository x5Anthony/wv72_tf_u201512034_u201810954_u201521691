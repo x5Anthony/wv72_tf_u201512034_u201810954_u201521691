{
  "nbformat": 4,
  "nbformat_minor": 0,
  "metadata": {
    "colab": {
      "name": "Trabajo Final - Complejidad Algorìtmica.ipynb",
      "provenance": [],
      "include_colab_link": true
    },
    "kernelspec": {
      "name": "python3",
      "display_name": "Python 3"
    },
    "language_info": {
      "name": "python"
    }
  },
  "cells": [
    {
      "cell_type": "markdown",
      "metadata": {
        "id": "view-in-github",
        "colab_type": "text"
      },
      "source": [
        "<a href=\"https://colab.research.google.com/github/x5Anthony/wv72_tf_u201512034_u201810954_u201521691/blob/main/Trabajo_Final_Complejidad_Algor%C3%ACtmica.ipynb\" target=\"_parent\"><img src=\"https://colab.research.google.com/assets/colab-badge.svg\" alt=\"Open In Colab\"/></a>"
      ]
    },
    {
      "cell_type": "code",
      "metadata": {
        "id": "JO2af40A4-MP"
      },
      "source": [
        "def setGraphWidthHeight(w, h):\n",
        "  n = w * h\n",
        "  G = [ [] for _ in range (n) ]\n",
        "  for i, u in enumerate(G):\n",
        "    if i - w >= 0 : u.append(i - w)\n",
        "    if i - 1 >= 0 : u.append(i - 1)\n",
        "    if i + 1 < n  : u.append(i + 1)\n",
        "    if i + w < n  : u.append(i + w)\n",
        "  return G"
      ],
      "execution_count": null,
      "outputs": []
    },
    {
      "cell_type": "code",
      "metadata": {
        "id": "y2qne7ty6czW"
      },
      "source": [
        "v1 = 1000\n",
        "v2 = setGraphWidthHeight(v1, v1)"
      ],
      "execution_count": null,
      "outputs": []
    },
    {
      "cell_type": "code",
      "metadata": {
        "id": "1YRFpd6D75T9"
      },
      "source": [
        "file = open(\"dataset/lista.csv\", \"w\")\n",
        "for x in v2:\n",
        "  file.write(str(x)[1:-1] + '\\n')\n",
        "file.close()"
      ],
      "execution_count": null,
      "outputs": []
    },
    {
      "cell_type": "markdown",
      "metadata": {
        "id": "YLuRs-j-_JXM"
      },
      "source": [
        "## Funcion para diferenciar los nodos\n",
        "* Todos los nodos inician con x, y \n",
        "* Los nodos de distribución terminan en D\n",
        "* Los nodos de entrega terminan en E"
      ]
    },
    {
      "cell_type": "code",
      "metadata": {
        "id": "iQjYsgPs_DIs"
      },
      "source": [
        "def setNodes(G, deps, dips, w = None):\n",
        "  n = len(G)\n",
        "  if w == None: w = int(n**(1/2))\n",
        "  labels = [f'{ i % w },{ i//w }' for i in range(n)]\n",
        "  for v in nodes1:\n",
        "    x, y = v[0], v[1]\n",
        "    pos  = y * w + x\n",
        "    labels[pos] = f'{ x }, { y } E'\n",
        "  for v in nodes2:\n",
        "    x, y = v[0], v[1]\n",
        "    pos  = y * w + x\n",
        "    labels[pos] = f'{ x }, { y } D'\n",
        "  return labels"
      ],
      "execution_count": null,
      "outputs": []
    },
    {
      "cell_type": "code",
      "metadata": {
        "id": "63T1qoaDzLGF"
      },
      "source": [
        "def getNodesByXYs(xyl, w):\n",
        "  return [xy[1]*w + xy[0] for xy in xyl]\n",
        "\n",
        "def getXYsByNodes(nl, w):\n",
        "  return [ (i%w , i//w) for i in nl ]"
      ],
      "execution_count": null,
      "outputs": []
    },
    {
      "cell_type": "markdown",
      "metadata": {
        "id": "MgvdbnhMuV9d"
      },
      "source": [
        "# Agregar la información de los datasets"
      ]
    },
    {
      "cell_type": "code",
      "metadata": {
        "colab": {
          "base_uri": "https://localhost:8080/"
        },
        "id": "m-yiForOAsrD",
        "outputId": "2d67629f-be5f-4e04-8225-b9f697294f0b"
      },
      "source": [
        "!wget https://raw.githubusercontent.com/x5Anthony/wv72_tf_u201512034_u201810954_u201521691/main/Hito1/almacenes.csv -P dataset/\n",
        "!wget https://raw.githubusercontent.com/x5Anthony/wv72_tf_u201512034_u201810954_u201521691/main/Hito1/puntos_entrega.csv -P dataset/"
      ],
      "execution_count": null,
      "outputs": [
        {
          "output_type": "stream",
          "name": "stdout",
          "text": [
            "--2021-11-26 16:07:27--  https://raw.githubusercontent.com/x5Anthony/wv72_tf_u201512034_u201810954_u201521691/main/Hito1/almacenes.csv\n",
            "Resolving raw.githubusercontent.com (raw.githubusercontent.com)... 185.199.108.133, 185.199.109.133, 185.199.110.133, ...\n",
            "Connecting to raw.githubusercontent.com (raw.githubusercontent.com)|185.199.108.133|:443... connected.\n",
            "HTTP request sent, awaiting response... 200 OK\n",
            "Length: 784 [text/plain]\n",
            "Saving to: ‘dataset/almacenes.csv.1’\n",
            "\n",
            "\ralmacenes.csv.1       0%[                    ]       0  --.-KB/s               \ralmacenes.csv.1     100%[===================>]     784  --.-KB/s    in 0s      \n",
            "\n",
            "2021-11-26 16:07:27 (22.7 MB/s) - ‘dataset/almacenes.csv.1’ saved [784/784]\n",
            "\n",
            "--2021-11-26 16:07:27--  https://raw.githubusercontent.com/x5Anthony/wv72_tf_u201512034_u201810954_u201521691/main/Hito1/puntos_entrega.csv\n",
            "Resolving raw.githubusercontent.com (raw.githubusercontent.com)... 185.199.109.133, 185.199.110.133, 185.199.111.133, ...\n",
            "Connecting to raw.githubusercontent.com (raw.githubusercontent.com)|185.199.109.133|:443... connected.\n",
            "HTTP request sent, awaiting response... 200 OK\n",
            "Length: 28806 (28K) [text/plain]\n",
            "Saving to: ‘dataset/puntos_entrega.csv.1’\n",
            "\n",
            "puntos_entrega.csv. 100%[===================>]  28.13K  --.-KB/s    in 0.001s  \n",
            "\n",
            "2021-11-26 16:07:27 (34.8 MB/s) - ‘dataset/puntos_entrega.csv.1’ saved [28806/28806]\n",
            "\n"
          ]
        }
      ]
    },
    {
      "cell_type": "code",
      "metadata": {
        "id": "3iLbxTYGvJPW"
      },
      "source": [
        "def files(filename):\n",
        "  data = []\n",
        "  with open(filename) as f:\n",
        "    for line in f:\n",
        "      data.append( tuple(map(int,line.strip().split(','))) )\n",
        "  return data\n",
        "\n",
        "almacenes = files(\"dataset/almacenes.csv\")\n",
        "entregas = files(\"dataset/puntos_entrega.csv\")"
      ],
      "execution_count": null,
      "outputs": []
    },
    {
      "cell_type": "code",
      "metadata": {
        "id": "hzMT6pAd2KPN"
      },
      "source": [
        "\n",
        "almacenes = getNodesByXYs(almacenes, v1)\n",
        "entregas  = getNodesByXYs(entregas, v1)"
      ],
      "execution_count": null,
      "outputs": []
    },
    {
      "cell_type": "markdown",
      "metadata": {
        "id": "ENuWqOdM2Jyj"
      },
      "source": [
        ""
      ]
    },
    {
      "cell_type": "markdown",
      "metadata": {
        "id": "yetynBcCxiJ1"
      },
      "source": [
        "# Algoritmos"
      ]
    },
    {
      "cell_type": "code",
      "metadata": {
        "id": "ciLkIxOoxk4W"
      },
      "source": [
        "import math\n",
        "import heapq as hq\n",
        "import numpy as np"
      ],
      "execution_count": null,
      "outputs": []
    },
    {
      "cell_type": "code",
      "metadata": {
        "id": "kGDNQfZdxmjl"
      },
      "source": [
        "def dijkstra(G, s):\n",
        "  n = len(G)\n",
        "  visited = [False]*n\n",
        "  path = [None]*n\n",
        "  cost = [math.inf]*n\n",
        "  cost[s] = 0\n",
        "  queue = [(0, s)]\n",
        "  while queue:\n",
        "    g_u, u = hq.heappop(queue)\n",
        "    if not visited[u]:\n",
        "      visited[u] = True\n",
        "      for v in G[u]:\n",
        "        f = g_u + 1\n",
        "        if f < cost[v]:\n",
        "          cost[v] = f\n",
        "          path[v] = u\n",
        "          hq.heappush(queue, (f, v))\n",
        "\n",
        "  return path, cost"
      ],
      "execution_count": null,
      "outputs": []
    },
    {
      "cell_type": "code",
      "metadata": {
        "id": "TSSSFTD0xvGW"
      },
      "source": [
        "path, cost = dijkstra(v2, 0)"
      ],
      "execution_count": null,
      "outputs": []
    },
    {
      "cell_type": "code",
      "metadata": {
        "id": "57G8xQZ4x29t"
      },
      "source": [
        "def dijkstrapd(dis, entrega, G):\n",
        "  res=[] \n",
        "  def dijkstrav2(G, s):\n",
        "    n = len(G)\n",
        "    visited = [False]*n\n",
        "    path = [None]*n\n",
        "    cost = [math.inf]*n\n",
        "    cost[s] = 0\n",
        "    queue = [(0, s)]\n",
        "    while queue:\n",
        "      g_u, u = hq.heappop(queue)\n",
        "      if  not visited[u]: #\n",
        "        visited[u] = True\n",
        "        for v in G[u]:\n",
        "          f = g_u + 1\n",
        "          if f < cost[v]:\n",
        "            cost[v] = f\n",
        "            path[v] = u\n",
        "            hq.heappush(queue, (f, v))\n",
        "    return path, cost\n",
        "\n",
        "  for i in dis:\n",
        "    l1, l2 = dijkstrav2(G,i)\n",
        "    for j in entrega:\n",
        "      k = j\n",
        "      p = [j]\n",
        "      c = l2[j]\n",
        "      while k!=i:\n",
        "        k=l1[k]\n",
        "        p.append(k)\n",
        "      p.reverse()\n",
        "      res.append((i,j,c,p)) #formato de la lista resultante: (nodo de distribucion i, nodo de entrega j, cost, path)\n",
        "  return res"
      ],
      "execution_count": null,
      "outputs": []
    },
    {
      "cell_type": "code",
      "metadata": {
        "id": "MEljz-Yjx4c0"
      },
      "source": [
        "djpd = dijkstrapd(almacenesNodes, entregasNodes, v2)"
      ],
      "execution_count": null,
      "outputs": []
    },
    {
      "cell_type": "code",
      "metadata": {
        "colab": {
          "base_uri": "https://localhost:8080/"
        },
        "id": "FnmwWSP0x6pM",
        "outputId": "5684bb0a-5a8c-4e70-edad-6c1a316eb693"
      },
      "source": [
        "def showDj(l:list, qv=10, qh=10):\n",
        "  qv = min( len(l), qv )\n",
        "  qh = min( len(l[0][-1]), qh )\n",
        "  for i in range(qv):\n",
        "    print( l[i][0], l[i][1], l[i][2], \n",
        "          str(l[i][3][:qh])[:-1], '...]', sep = ',' )\n",
        "  print('...')\n",
        "showDj(djpd)"
      ],
      "execution_count": null,
      "outputs": [
        {
          "output_type": "stream",
          "name": "stdout",
          "text": [
            "891193,622283,359,[891193, 890193, 889193, 888193, 887193, 886193, 885193, 884193, 883193, 882193,...]\n",
            "891193,274440,864,[891193, 890193, 889193, 888193, 887193, 886193, 885193, 884193, 883193, 882193,...]\n",
            "891193,893469,278,[891193, 891194, 891195, 891196, 891197, 891198, 891199, 891200, 891201, 891202,...]\n",
            "891193,337414,775,[891193, 890193, 889193, 888193, 887193, 886193, 885193, 884193, 883193, 882193,...]\n",
            "891193,358823,902,[891193, 890193, 889193, 888193, 887193, 886193, 885193, 884193, 883193, 882193,...]\n",
            "891193,847001,236,[891193, 890193, 889193, 888193, 887193, 886193, 885193, 884193, 883193, 882193,...]\n",
            "891193,430504,772,[891193, 890193, 889193, 888193, 887193, 886193, 885193, 884193, 883193, 882193,...]\n",
            "891193,166465,997,[891193, 890193, 889193, 888193, 887193, 886193, 885193, 884193, 883193, 882193,...]\n",
            "891193,758724,601,[891193, 890193, 889193, 888193, 887193, 886193, 885193, 884193, 883193, 882193,...]\n",
            "891193,878502,322,[891193, 890193, 889193, 888193, 887193, 886193, 885193, 884193, 883193, 882193,...]\n",
            "...\n"
          ]
        }
      ]
    },
    {
      "cell_type": "code",
      "metadata": {
        "id": "uXPgeBo9-E9h"
      },
      "source": [
        "def distancia(p1, p2):\n",
        "  x1, y1 = p1\n",
        "  x2, y2 = p2\n",
        "  return math.sqrt((x2-x1)**2+(y2-y1)**2)\n",
        "\n",
        "def getnodo(p, side):\n",
        "  x, y = p\n",
        "  return y*side + x"
      ],
      "execution_count": null,
      "outputs": []
    },
    {
      "cell_type": "code",
      "metadata": {
        "id": "rKZ7oH4i-JE5"
      },
      "source": [
        "def asignacion(dist, ent):\n",
        "  res = [] # [[dist1, emt1, ent2, entn],[dist2, ent1, ent2, entn],...]\n",
        "  for i in dist:\n",
        "    l = [getnodo(i,v1)]\n",
        "    for j in ent:\n",
        "      if distancia(i,j)<=50:\n",
        "        l.append(getnodo(j,v1))\n",
        "    res.append(l)\n",
        "  return res\n"
      ],
      "execution_count": null,
      "outputs": []
    },
    {
      "cell_type": "code",
      "metadata": {
        "id": "FKjZd3Ym-NAh"
      },
      "source": [
        "dist = files(\"dataset/almacenes.csv\")\n",
        "ent = files(\"dataset/puntos_entrega.csv\")"
      ],
      "execution_count": null,
      "outputs": []
    },
    {
      "cell_type": "code",
      "metadata": {
        "id": "mJkPEg28-Oj-"
      },
      "source": [
        "l = asignacion(dist,ent)"
      ],
      "execution_count": null,
      "outputs": []
    },
    {
      "cell_type": "code",
      "metadata": {
        "id": "M4Zfiq3x-6rR"
      },
      "source": [
        "def separacion(l):\n",
        "  l1 = []\n",
        "  l2 = []\n",
        "  l3 = []\n",
        "  for i in l:\n",
        "    if len(i)<15:\n",
        "      l1.append(i)\n",
        "    elif len(i)>=15 and len(i)<25:\n",
        "      l2.append(i)\n",
        "    else:\n",
        "      l3.append(i)\n",
        "  return l1,l2,l3\n",
        "\n",
        "  "
      ],
      "execution_count": null,
      "outputs": []
    },
    {
      "cell_type": "code",
      "metadata": {
        "id": "xRERYgECDdy3"
      },
      "source": [
        "d, c, j = separacion(l)"
      ],
      "execution_count": null,
      "outputs": []
    },
    {
      "cell_type": "markdown",
      "metadata": {
        "id": "POM6nLYM--gB"
      },
      "source": [
        "# Algoritmo Miguel"
      ]
    },
    {
      "cell_type": "code",
      "metadata": {
        "id": "aXZL0Ync_GXh"
      },
      "source": [
        "from itertools import permutations"
      ],
      "execution_count": null,
      "outputs": []
    },
    {
      "cell_type": "code",
      "metadata": {
        "id": "j12poORo_G35"
      },
      "source": [
        "def distanciacuadras(n1, n2):\n",
        "  m1 = n1// 1000\n",
        "  m2 = n2// 1000\n",
        "  dist = 0\n",
        "  while n1!=n2:\n",
        "    if m1>m2:\n",
        "      n1-=1000\n",
        "      m1-=1\n",
        "    elif m2>m1:\n",
        "      n1+=1000\n",
        "      m1+=1\n",
        "    else:\n",
        "      if n1>n2:\n",
        "        n1-=1\n",
        "      if n2>n1:\n",
        "        n1+=1\n",
        "    dist+=1\n",
        "  return dist"
      ],
      "execution_count": null,
      "outputs": []
    },
    {
      "cell_type": "code",
      "metadata": {
        "id": "34ZJTj3nDWpp"
      },
      "source": [
        "def tsp(l):\n",
        "  l2 = l.copy()\n",
        "  inicio = l2.pop(0)\n",
        "  permutaciones = list(permutations(l2))\n",
        "  res = []\n",
        "  dist = float('inf')\n",
        "  for i in permutaciones:\n",
        "    d = distanciacuadras(inicio, i[0])\n",
        "    for j in range(1, len(i)):\n",
        "      d += distanciacuadras(i[j],i[j-1])\n",
        "    d += distanciacuadras(inicio,i[len(i)-1])\n",
        "    if d<dist:\n",
        "      res=list(i)\n",
        "      dist=d\n",
        "  res.insert(0,inicio)\n",
        "  res.append(inicio)\n",
        "  return res, dist"
      ],
      "execution_count": null,
      "outputs": []
    },
    {
      "cell_type": "code",
      "metadata": {
        "id": "-qZ8tj67_KE5"
      },
      "source": [
        "def algoritmoD(d):\n",
        "  for i in d:\n",
        "    l, dist = tsp(i)\n",
        "    print(f'Desde el punto de distribución {i.pop(0)} un carro entrego pedidos a los puntos de entrega: {i}, recorriendo {dist} cuadras, por la ruta: {l}')"
      ],
      "execution_count": null,
      "outputs": []
    },
    {
      "cell_type": "code",
      "metadata": {
        "colab": {
          "base_uri": "https://localhost:8080/"
        },
        "id": "tpc5mi80_T7Q",
        "outputId": "b7ab4feb-c8c5-42de-96d8-4a619c2fbc45"
      },
      "source": [
        "algoritmoD(d)"
      ],
      "execution_count": null,
      "outputs": [
        {
          "output_type": "stream",
          "name": "stdout",
          "text": [
            "Desde el punto de distribución 997921 un carro entrego pedidos a los puntos de entrega: [994917, 994935, 991955, 970961, 972903, 994898, 960952, 975880], recorriendo 236 cuadras, por la ruta: [997921, 994917, 994898, 975880, 972903, 960952, 970961, 991955, 994935, 997921]\n"
          ]
        }
      ]
    },
    {
      "cell_type": "markdown",
      "metadata": {
        "id": "7A27Cm6p9RUa"
      },
      "source": [
        "# Algoritmo Gerardo"
      ]
    },
    {
      "cell_type": "markdown",
      "metadata": {
        "id": "V6KrCV02_sL3"
      },
      "source": [
        "asd"
      ]
    }
  ]
}